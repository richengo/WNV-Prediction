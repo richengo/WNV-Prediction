{
 "cells": [
  {
   "cell_type": "markdown",
   "metadata": {
    "cell_id": "00000-c6fd688d-f049-4ecc-a803-feaf3301ec97",
    "deepnote_cell_type": "markdown"
   },
   "source": [
    "# Project 4: West Nile Virus Prediction\n",
    "____________\n",
    "\n",
    "# Part 4 - Kaggle Predictions\n",
    "\n",
    "This notebook is just for predicting the Wnv presence on the Kaggle dataset."
   ]
  },
  {
   "cell_type": "markdown",
   "metadata": {
    "cell_id": "00001-191c7d37-986b-468c-8003-19d482b27ba5",
    "deepnote_cell_type": "markdown"
   },
   "source": [
    "### Group 4, SG-DSI-18"
   ]
  },
  {
   "cell_type": "code",
   "execution_count": 1,
   "metadata": {
    "ExecuteTime": {
     "end_time": "2021-01-09T05:09:44.933375Z",
     "start_time": "2021-01-09T05:09:43.118043Z"
    },
    "cell_id": "00002-6f0810ab-92c2-4d39-a51f-6c5d786878b6",
    "deepnote_cell_type": "code"
   },
   "outputs": [],
   "source": [
    "# Import libraries\n",
    "import pandas as pd\n",
    "import numpy as np\n",
    "import matplotlib.pyplot as plt\n",
    "import seaborn as sns\n",
    "import pickle\n",
    "\n",
    "from sklearn.preprocessing import StandardScaler\n",
    "from sklearn.ensemble import GradientBoostingClassifier, ExtraTreesClassifier, AdaBoostClassifier"
   ]
  },
  {
   "cell_type": "markdown",
   "metadata": {
    "cell_id": "00003-cc407474-49ce-459a-b607-79ddf8aab346",
    "deepnote_cell_type": "markdown"
   },
   "source": [
    "### Import data"
   ]
  },
  {
   "cell_type": "code",
   "execution_count": 2,
   "metadata": {
    "ExecuteTime": {
     "end_time": "2021-01-09T05:09:44.952361Z",
     "start_time": "2021-01-09T05:09:44.937247Z"
    },
    "cell_id": "00004-650bf62a-127e-48cf-8a9b-d12af161499d",
    "deepnote_cell_type": "code"
   },
   "outputs": [],
   "source": [
    "# Import train data to see which features are required\n",
    "X_train = pickle.load(open('../datasets/X_train.pkl', 'rb'))\n",
    "\n",
    "# Import weather data to merge with test data\n",
    "weather = pickle.load(open('../datasets/weather_final.pkl', 'rb'))"
   ]
  },
  {
   "cell_type": "code",
   "execution_count": 3,
   "metadata": {
    "ExecuteTime": {
     "end_time": "2021-01-09T05:09:45.555160Z",
     "start_time": "2021-01-09T05:09:45.525850Z"
    },
    "cell_id": "00005-534c9f7c-5345-4617-bd62-bc5a324c0a6d",
    "deepnote_cell_type": "code"
   },
   "outputs": [
    {
     "data": {
      "text/html": [
       "<div>\n",
       "<style scoped>\n",
       "    .dataframe tbody tr th:only-of-type {\n",
       "        vertical-align: middle;\n",
       "    }\n",
       "\n",
       "    .dataframe tbody tr th {\n",
       "        vertical-align: top;\n",
       "    }\n",
       "\n",
       "    .dataframe thead th {\n",
       "        text-align: right;\n",
       "    }\n",
       "</style>\n",
       "<table border=\"1\" class=\"dataframe\">\n",
       "  <thead>\n",
       "    <tr style=\"text-align: right;\">\n",
       "      <th></th>\n",
       "      <th>Station</th>\n",
       "      <th>Date</th>\n",
       "      <th>WeekTavg</th>\n",
       "      <th>WeekWetBulb</th>\n",
       "      <th>WeekWetDry</th>\n",
       "      <th>WeekPrecipTotal</th>\n",
       "      <th>WeekStnPressure</th>\n",
       "      <th>WeekSeaLevel</th>\n",
       "      <th>WeekResultSpeed</th>\n",
       "      <th>WeekResultDir</th>\n",
       "      <th>...</th>\n",
       "      <th>windlag3</th>\n",
       "      <th>windlag4</th>\n",
       "      <th>sunlag1</th>\n",
       "      <th>sunlag2</th>\n",
       "      <th>sunlag3</th>\n",
       "      <th>sunlag4</th>\n",
       "      <th>humidlag1</th>\n",
       "      <th>humidlag2</th>\n",
       "      <th>humidlag3</th>\n",
       "      <th>humidlag4</th>\n",
       "    </tr>\n",
       "  </thead>\n",
       "  <tbody>\n",
       "    <tr>\n",
       "      <th>0</th>\n",
       "      <td>1</td>\n",
       "      <td>2007-05-01</td>\n",
       "      <td>60.333333</td>\n",
       "      <td>50.0</td>\n",
       "      <td>0.166667</td>\n",
       "      <td>0.000833</td>\n",
       "      <td>29.42</td>\n",
       "      <td>30.071667</td>\n",
       "      <td>10.666667</td>\n",
       "      <td>9.5</td>\n",
       "      <td>...</td>\n",
       "      <td>10.1</td>\n",
       "      <td>9.1</td>\n",
       "      <td>14.111111</td>\n",
       "      <td>13.111111</td>\n",
       "      <td>12.111111</td>\n",
       "      <td>11.111111</td>\n",
       "      <td>45.383333</td>\n",
       "      <td>44.383333</td>\n",
       "      <td>43.383333</td>\n",
       "      <td>42.383333</td>\n",
       "    </tr>\n",
       "    <tr>\n",
       "      <th>1</th>\n",
       "      <td>2</td>\n",
       "      <td>2007-05-01</td>\n",
       "      <td>60.333333</td>\n",
       "      <td>50.0</td>\n",
       "      <td>0.166667</td>\n",
       "      <td>0.000833</td>\n",
       "      <td>29.42</td>\n",
       "      <td>30.071667</td>\n",
       "      <td>10.666667</td>\n",
       "      <td>9.5</td>\n",
       "      <td>...</td>\n",
       "      <td>10.1</td>\n",
       "      <td>9.1</td>\n",
       "      <td>14.111111</td>\n",
       "      <td>13.111111</td>\n",
       "      <td>12.111111</td>\n",
       "      <td>11.111111</td>\n",
       "      <td>45.383333</td>\n",
       "      <td>44.383333</td>\n",
       "      <td>43.383333</td>\n",
       "      <td>42.383333</td>\n",
       "    </tr>\n",
       "    <tr>\n",
       "      <th>2</th>\n",
       "      <td>1</td>\n",
       "      <td>2007-05-02</td>\n",
       "      <td>60.333333</td>\n",
       "      <td>50.0</td>\n",
       "      <td>0.166667</td>\n",
       "      <td>0.000833</td>\n",
       "      <td>29.42</td>\n",
       "      <td>30.071667</td>\n",
       "      <td>10.666667</td>\n",
       "      <td>9.5</td>\n",
       "      <td>...</td>\n",
       "      <td>10.1</td>\n",
       "      <td>9.1</td>\n",
       "      <td>14.111111</td>\n",
       "      <td>13.111111</td>\n",
       "      <td>12.111111</td>\n",
       "      <td>11.111111</td>\n",
       "      <td>45.383333</td>\n",
       "      <td>44.383333</td>\n",
       "      <td>43.383333</td>\n",
       "      <td>42.383333</td>\n",
       "    </tr>\n",
       "    <tr>\n",
       "      <th>3</th>\n",
       "      <td>2</td>\n",
       "      <td>2007-05-02</td>\n",
       "      <td>60.333333</td>\n",
       "      <td>50.0</td>\n",
       "      <td>0.166667</td>\n",
       "      <td>0.000833</td>\n",
       "      <td>29.42</td>\n",
       "      <td>30.071667</td>\n",
       "      <td>10.666667</td>\n",
       "      <td>9.5</td>\n",
       "      <td>...</td>\n",
       "      <td>10.1</td>\n",
       "      <td>9.1</td>\n",
       "      <td>14.111111</td>\n",
       "      <td>13.111111</td>\n",
       "      <td>12.111111</td>\n",
       "      <td>11.111111</td>\n",
       "      <td>45.383333</td>\n",
       "      <td>44.383333</td>\n",
       "      <td>43.383333</td>\n",
       "      <td>42.383333</td>\n",
       "    </tr>\n",
       "    <tr>\n",
       "      <th>4</th>\n",
       "      <td>1</td>\n",
       "      <td>2007-05-03</td>\n",
       "      <td>60.333333</td>\n",
       "      <td>50.0</td>\n",
       "      <td>0.166667</td>\n",
       "      <td>0.000833</td>\n",
       "      <td>29.42</td>\n",
       "      <td>30.071667</td>\n",
       "      <td>10.666667</td>\n",
       "      <td>9.5</td>\n",
       "      <td>...</td>\n",
       "      <td>10.1</td>\n",
       "      <td>9.1</td>\n",
       "      <td>14.111111</td>\n",
       "      <td>13.111111</td>\n",
       "      <td>12.111111</td>\n",
       "      <td>11.111111</td>\n",
       "      <td>45.383333</td>\n",
       "      <td>44.383333</td>\n",
       "      <td>43.383333</td>\n",
       "      <td>42.383333</td>\n",
       "    </tr>\n",
       "  </tbody>\n",
       "</table>\n",
       "<p>5 rows × 57 columns</p>\n",
       "</div>"
      ],
      "text/plain": [
       "   Station       Date   WeekTavg  WeekWetBulb  WeekWetDry  WeekPrecipTotal  \\\n",
       "0        1 2007-05-01  60.333333         50.0    0.166667         0.000833   \n",
       "1        2 2007-05-01  60.333333         50.0    0.166667         0.000833   \n",
       "2        1 2007-05-02  60.333333         50.0    0.166667         0.000833   \n",
       "3        2 2007-05-02  60.333333         50.0    0.166667         0.000833   \n",
       "4        1 2007-05-03  60.333333         50.0    0.166667         0.000833   \n",
       "\n",
       "   WeekStnPressure  WeekSeaLevel  WeekResultSpeed  WeekResultDir  ...  \\\n",
       "0            29.42     30.071667        10.666667            9.5  ...   \n",
       "1            29.42     30.071667        10.666667            9.5  ...   \n",
       "2            29.42     30.071667        10.666667            9.5  ...   \n",
       "3            29.42     30.071667        10.666667            9.5  ...   \n",
       "4            29.42     30.071667        10.666667            9.5  ...   \n",
       "\n",
       "   windlag3  windlag4    sunlag1    sunlag2    sunlag3    sunlag4  humidlag1  \\\n",
       "0      10.1       9.1  14.111111  13.111111  12.111111  11.111111  45.383333   \n",
       "1      10.1       9.1  14.111111  13.111111  12.111111  11.111111  45.383333   \n",
       "2      10.1       9.1  14.111111  13.111111  12.111111  11.111111  45.383333   \n",
       "3      10.1       9.1  14.111111  13.111111  12.111111  11.111111  45.383333   \n",
       "4      10.1       9.1  14.111111  13.111111  12.111111  11.111111  45.383333   \n",
       "\n",
       "   humidlag2  humidlag3  humidlag4  \n",
       "0  44.383333  43.383333  42.383333  \n",
       "1  44.383333  43.383333  42.383333  \n",
       "2  44.383333  43.383333  42.383333  \n",
       "3  44.383333  43.383333  42.383333  \n",
       "4  44.383333  43.383333  42.383333  \n",
       "\n",
       "[5 rows x 57 columns]"
      ]
     },
     "execution_count": 3,
     "metadata": {},
     "output_type": "execute_result"
    }
   ],
   "source": [
    "weather.head()"
   ]
  },
  {
   "cell_type": "code",
   "execution_count": 4,
   "metadata": {
    "ExecuteTime": {
     "end_time": "2021-01-09T05:10:18.115920Z",
     "start_time": "2021-01-09T05:10:17.896568Z"
    },
    "cell_id": "00006-4ce1e07d-86be-4dcd-aa57-a90d2b58ca40",
    "deepnote_cell_type": "code"
   },
   "outputs": [],
   "source": [
    "# Import Kaggle Test data\n",
    "test = pd.read_csv('../datasets/test.csv')\n",
    "\n",
    "# Import sample for submission\n",
    "sample_submission = pd.read_csv('../datasets/sampleSubmission.csv')"
   ]
  },
  {
   "cell_type": "code",
   "execution_count": 5,
   "metadata": {
    "ExecuteTime": {
     "end_time": "2021-01-09T05:10:20.816209Z",
     "start_time": "2021-01-09T05:10:20.795065Z"
    },
    "cell_id": "00007-ffce8267-9c13-44aa-81cd-360c25f8897a",
    "deepnote_cell_type": "code"
   },
   "outputs": [
    {
     "data": {
      "text/html": [
       "<div>\n",
       "<style scoped>\n",
       "    .dataframe tbody tr th:only-of-type {\n",
       "        vertical-align: middle;\n",
       "    }\n",
       "\n",
       "    .dataframe tbody tr th {\n",
       "        vertical-align: top;\n",
       "    }\n",
       "\n",
       "    .dataframe thead th {\n",
       "        text-align: right;\n",
       "    }\n",
       "</style>\n",
       "<table border=\"1\" class=\"dataframe\">\n",
       "  <thead>\n",
       "    <tr style=\"text-align: right;\">\n",
       "      <th></th>\n",
       "      <th>Id</th>\n",
       "      <th>Date</th>\n",
       "      <th>Address</th>\n",
       "      <th>Species</th>\n",
       "      <th>Block</th>\n",
       "      <th>Street</th>\n",
       "      <th>Trap</th>\n",
       "      <th>AddressNumberAndStreet</th>\n",
       "      <th>Latitude</th>\n",
       "      <th>Longitude</th>\n",
       "      <th>AddressAccuracy</th>\n",
       "    </tr>\n",
       "  </thead>\n",
       "  <tbody>\n",
       "    <tr>\n",
       "      <th>0</th>\n",
       "      <td>1</td>\n",
       "      <td>2008-06-11</td>\n",
       "      <td>4100 North Oak Park Avenue, Chicago, IL 60634,...</td>\n",
       "      <td>CULEX PIPIENS/RESTUANS</td>\n",
       "      <td>41</td>\n",
       "      <td>N OAK PARK AVE</td>\n",
       "      <td>T002</td>\n",
       "      <td>4100  N OAK PARK AVE, Chicago, IL</td>\n",
       "      <td>41.954690</td>\n",
       "      <td>-87.800991</td>\n",
       "      <td>9</td>\n",
       "    </tr>\n",
       "    <tr>\n",
       "      <th>1</th>\n",
       "      <td>2</td>\n",
       "      <td>2008-06-11</td>\n",
       "      <td>4100 North Oak Park Avenue, Chicago, IL 60634,...</td>\n",
       "      <td>CULEX RESTUANS</td>\n",
       "      <td>41</td>\n",
       "      <td>N OAK PARK AVE</td>\n",
       "      <td>T002</td>\n",
       "      <td>4100  N OAK PARK AVE, Chicago, IL</td>\n",
       "      <td>41.954690</td>\n",
       "      <td>-87.800991</td>\n",
       "      <td>9</td>\n",
       "    </tr>\n",
       "    <tr>\n",
       "      <th>2</th>\n",
       "      <td>3</td>\n",
       "      <td>2008-06-11</td>\n",
       "      <td>4100 North Oak Park Avenue, Chicago, IL 60634,...</td>\n",
       "      <td>CULEX PIPIENS</td>\n",
       "      <td>41</td>\n",
       "      <td>N OAK PARK AVE</td>\n",
       "      <td>T002</td>\n",
       "      <td>4100  N OAK PARK AVE, Chicago, IL</td>\n",
       "      <td>41.954690</td>\n",
       "      <td>-87.800991</td>\n",
       "      <td>9</td>\n",
       "    </tr>\n",
       "    <tr>\n",
       "      <th>3</th>\n",
       "      <td>4</td>\n",
       "      <td>2008-06-11</td>\n",
       "      <td>4100 North Oak Park Avenue, Chicago, IL 60634,...</td>\n",
       "      <td>CULEX SALINARIUS</td>\n",
       "      <td>41</td>\n",
       "      <td>N OAK PARK AVE</td>\n",
       "      <td>T002</td>\n",
       "      <td>4100  N OAK PARK AVE, Chicago, IL</td>\n",
       "      <td>41.954690</td>\n",
       "      <td>-87.800991</td>\n",
       "      <td>9</td>\n",
       "    </tr>\n",
       "    <tr>\n",
       "      <th>4</th>\n",
       "      <td>5</td>\n",
       "      <td>2008-06-11</td>\n",
       "      <td>4100 North Oak Park Avenue, Chicago, IL 60634,...</td>\n",
       "      <td>CULEX TERRITANS</td>\n",
       "      <td>41</td>\n",
       "      <td>N OAK PARK AVE</td>\n",
       "      <td>T002</td>\n",
       "      <td>4100  N OAK PARK AVE, Chicago, IL</td>\n",
       "      <td>41.954690</td>\n",
       "      <td>-87.800991</td>\n",
       "      <td>9</td>\n",
       "    </tr>\n",
       "    <tr>\n",
       "      <th>5</th>\n",
       "      <td>6</td>\n",
       "      <td>2008-06-11</td>\n",
       "      <td>4100 North Oak Park Avenue, Chicago, IL 60634,...</td>\n",
       "      <td>CULEX TARSALIS</td>\n",
       "      <td>41</td>\n",
       "      <td>N OAK PARK AVE</td>\n",
       "      <td>T002</td>\n",
       "      <td>4100  N OAK PARK AVE, Chicago, IL</td>\n",
       "      <td>41.954690</td>\n",
       "      <td>-87.800991</td>\n",
       "      <td>9</td>\n",
       "    </tr>\n",
       "    <tr>\n",
       "      <th>6</th>\n",
       "      <td>7</td>\n",
       "      <td>2008-06-11</td>\n",
       "      <td>4100 North Oak Park Avenue, Chicago, IL 60634,...</td>\n",
       "      <td>UNSPECIFIED CULEX</td>\n",
       "      <td>41</td>\n",
       "      <td>N OAK PARK AVE</td>\n",
       "      <td>T002</td>\n",
       "      <td>4100  N OAK PARK AVE, Chicago, IL</td>\n",
       "      <td>41.954690</td>\n",
       "      <td>-87.800991</td>\n",
       "      <td>9</td>\n",
       "    </tr>\n",
       "    <tr>\n",
       "      <th>7</th>\n",
       "      <td>8</td>\n",
       "      <td>2008-06-11</td>\n",
       "      <td>4100 North Oak Park Avenue, Chicago, IL 60634,...</td>\n",
       "      <td>CULEX ERRATICUS</td>\n",
       "      <td>41</td>\n",
       "      <td>N OAK PARK AVE</td>\n",
       "      <td>T002</td>\n",
       "      <td>4100  N OAK PARK AVE, Chicago, IL</td>\n",
       "      <td>41.954690</td>\n",
       "      <td>-87.800991</td>\n",
       "      <td>9</td>\n",
       "    </tr>\n",
       "    <tr>\n",
       "      <th>8</th>\n",
       "      <td>9</td>\n",
       "      <td>2008-06-11</td>\n",
       "      <td>6200 North Mandell Avenue, Chicago, IL 60646, USA</td>\n",
       "      <td>CULEX PIPIENS/RESTUANS</td>\n",
       "      <td>62</td>\n",
       "      <td>N MANDELL AVE</td>\n",
       "      <td>T007</td>\n",
       "      <td>6200  N MANDELL AVE, Chicago, IL</td>\n",
       "      <td>41.994991</td>\n",
       "      <td>-87.769279</td>\n",
       "      <td>9</td>\n",
       "    </tr>\n",
       "    <tr>\n",
       "      <th>9</th>\n",
       "      <td>10</td>\n",
       "      <td>2008-06-11</td>\n",
       "      <td>6200 North Mandell Avenue, Chicago, IL 60646, USA</td>\n",
       "      <td>CULEX RESTUANS</td>\n",
       "      <td>62</td>\n",
       "      <td>N MANDELL AVE</td>\n",
       "      <td>T007</td>\n",
       "      <td>6200  N MANDELL AVE, Chicago, IL</td>\n",
       "      <td>41.994991</td>\n",
       "      <td>-87.769279</td>\n",
       "      <td>9</td>\n",
       "    </tr>\n",
       "    <tr>\n",
       "      <th>10</th>\n",
       "      <td>11</td>\n",
       "      <td>2008-06-11</td>\n",
       "      <td>6200 North Mandell Avenue, Chicago, IL 60646, USA</td>\n",
       "      <td>CULEX PIPIENS</td>\n",
       "      <td>62</td>\n",
       "      <td>N MANDELL AVE</td>\n",
       "      <td>T007</td>\n",
       "      <td>6200  N MANDELL AVE, Chicago, IL</td>\n",
       "      <td>41.994991</td>\n",
       "      <td>-87.769279</td>\n",
       "      <td>9</td>\n",
       "    </tr>\n",
       "    <tr>\n",
       "      <th>11</th>\n",
       "      <td>12</td>\n",
       "      <td>2008-06-11</td>\n",
       "      <td>6200 North Mandell Avenue, Chicago, IL 60646, USA</td>\n",
       "      <td>CULEX SALINARIUS</td>\n",
       "      <td>62</td>\n",
       "      <td>N MANDELL AVE</td>\n",
       "      <td>T007</td>\n",
       "      <td>6200  N MANDELL AVE, Chicago, IL</td>\n",
       "      <td>41.994991</td>\n",
       "      <td>-87.769279</td>\n",
       "      <td>9</td>\n",
       "    </tr>\n",
       "    <tr>\n",
       "      <th>12</th>\n",
       "      <td>13</td>\n",
       "      <td>2008-06-11</td>\n",
       "      <td>6200 North Mandell Avenue, Chicago, IL 60646, USA</td>\n",
       "      <td>CULEX TERRITANS</td>\n",
       "      <td>62</td>\n",
       "      <td>N MANDELL AVE</td>\n",
       "      <td>T007</td>\n",
       "      <td>6200  N MANDELL AVE, Chicago, IL</td>\n",
       "      <td>41.994991</td>\n",
       "      <td>-87.769279</td>\n",
       "      <td>9</td>\n",
       "    </tr>\n",
       "    <tr>\n",
       "      <th>13</th>\n",
       "      <td>14</td>\n",
       "      <td>2008-06-11</td>\n",
       "      <td>6200 North Mandell Avenue, Chicago, IL 60646, USA</td>\n",
       "      <td>CULEX TARSALIS</td>\n",
       "      <td>62</td>\n",
       "      <td>N MANDELL AVE</td>\n",
       "      <td>T007</td>\n",
       "      <td>6200  N MANDELL AVE, Chicago, IL</td>\n",
       "      <td>41.994991</td>\n",
       "      <td>-87.769279</td>\n",
       "      <td>9</td>\n",
       "    </tr>\n",
       "    <tr>\n",
       "      <th>14</th>\n",
       "      <td>15</td>\n",
       "      <td>2008-06-11</td>\n",
       "      <td>6200 North Mandell Avenue, Chicago, IL 60646, USA</td>\n",
       "      <td>UNSPECIFIED CULEX</td>\n",
       "      <td>62</td>\n",
       "      <td>N MANDELL AVE</td>\n",
       "      <td>T007</td>\n",
       "      <td>6200  N MANDELL AVE, Chicago, IL</td>\n",
       "      <td>41.994991</td>\n",
       "      <td>-87.769279</td>\n",
       "      <td>9</td>\n",
       "    </tr>\n",
       "    <tr>\n",
       "      <th>15</th>\n",
       "      <td>16</td>\n",
       "      <td>2008-06-11</td>\n",
       "      <td>6200 North Mandell Avenue, Chicago, IL 60646, USA</td>\n",
       "      <td>CULEX ERRATICUS</td>\n",
       "      <td>62</td>\n",
       "      <td>N MANDELL AVE</td>\n",
       "      <td>T007</td>\n",
       "      <td>6200  N MANDELL AVE, Chicago, IL</td>\n",
       "      <td>41.994991</td>\n",
       "      <td>-87.769279</td>\n",
       "      <td>9</td>\n",
       "    </tr>\n",
       "    <tr>\n",
       "      <th>16</th>\n",
       "      <td>17</td>\n",
       "      <td>2008-06-11</td>\n",
       "      <td>7900 West Foster Avenue, Chicago, IL 60656, USA</td>\n",
       "      <td>CULEX PIPIENS/RESTUANS</td>\n",
       "      <td>79</td>\n",
       "      <td>W FOSTER AVE</td>\n",
       "      <td>T015</td>\n",
       "      <td>7900  W FOSTER AVE, Chicago, IL</td>\n",
       "      <td>41.974089</td>\n",
       "      <td>-87.824812</td>\n",
       "      <td>8</td>\n",
       "    </tr>\n",
       "    <tr>\n",
       "      <th>17</th>\n",
       "      <td>18</td>\n",
       "      <td>2008-06-11</td>\n",
       "      <td>7900 West Foster Avenue, Chicago, IL 60656, USA</td>\n",
       "      <td>CULEX RESTUANS</td>\n",
       "      <td>79</td>\n",
       "      <td>W FOSTER AVE</td>\n",
       "      <td>T015</td>\n",
       "      <td>7900  W FOSTER AVE, Chicago, IL</td>\n",
       "      <td>41.974089</td>\n",
       "      <td>-87.824812</td>\n",
       "      <td>8</td>\n",
       "    </tr>\n",
       "    <tr>\n",
       "      <th>18</th>\n",
       "      <td>19</td>\n",
       "      <td>2008-06-11</td>\n",
       "      <td>7900 West Foster Avenue, Chicago, IL 60656, USA</td>\n",
       "      <td>CULEX PIPIENS</td>\n",
       "      <td>79</td>\n",
       "      <td>W FOSTER AVE</td>\n",
       "      <td>T015</td>\n",
       "      <td>7900  W FOSTER AVE, Chicago, IL</td>\n",
       "      <td>41.974089</td>\n",
       "      <td>-87.824812</td>\n",
       "      <td>8</td>\n",
       "    </tr>\n",
       "    <tr>\n",
       "      <th>19</th>\n",
       "      <td>20</td>\n",
       "      <td>2008-06-11</td>\n",
       "      <td>7900 West Foster Avenue, Chicago, IL 60656, USA</td>\n",
       "      <td>CULEX SALINARIUS</td>\n",
       "      <td>79</td>\n",
       "      <td>W FOSTER AVE</td>\n",
       "      <td>T015</td>\n",
       "      <td>7900  W FOSTER AVE, Chicago, IL</td>\n",
       "      <td>41.974089</td>\n",
       "      <td>-87.824812</td>\n",
       "      <td>8</td>\n",
       "    </tr>\n",
       "  </tbody>\n",
       "</table>\n",
       "</div>"
      ],
      "text/plain": [
       "    Id        Date                                            Address  \\\n",
       "0    1  2008-06-11  4100 North Oak Park Avenue, Chicago, IL 60634,...   \n",
       "1    2  2008-06-11  4100 North Oak Park Avenue, Chicago, IL 60634,...   \n",
       "2    3  2008-06-11  4100 North Oak Park Avenue, Chicago, IL 60634,...   \n",
       "3    4  2008-06-11  4100 North Oak Park Avenue, Chicago, IL 60634,...   \n",
       "4    5  2008-06-11  4100 North Oak Park Avenue, Chicago, IL 60634,...   \n",
       "5    6  2008-06-11  4100 North Oak Park Avenue, Chicago, IL 60634,...   \n",
       "6    7  2008-06-11  4100 North Oak Park Avenue, Chicago, IL 60634,...   \n",
       "7    8  2008-06-11  4100 North Oak Park Avenue, Chicago, IL 60634,...   \n",
       "8    9  2008-06-11  6200 North Mandell Avenue, Chicago, IL 60646, USA   \n",
       "9   10  2008-06-11  6200 North Mandell Avenue, Chicago, IL 60646, USA   \n",
       "10  11  2008-06-11  6200 North Mandell Avenue, Chicago, IL 60646, USA   \n",
       "11  12  2008-06-11  6200 North Mandell Avenue, Chicago, IL 60646, USA   \n",
       "12  13  2008-06-11  6200 North Mandell Avenue, Chicago, IL 60646, USA   \n",
       "13  14  2008-06-11  6200 North Mandell Avenue, Chicago, IL 60646, USA   \n",
       "14  15  2008-06-11  6200 North Mandell Avenue, Chicago, IL 60646, USA   \n",
       "15  16  2008-06-11  6200 North Mandell Avenue, Chicago, IL 60646, USA   \n",
       "16  17  2008-06-11    7900 West Foster Avenue, Chicago, IL 60656, USA   \n",
       "17  18  2008-06-11    7900 West Foster Avenue, Chicago, IL 60656, USA   \n",
       "18  19  2008-06-11    7900 West Foster Avenue, Chicago, IL 60656, USA   \n",
       "19  20  2008-06-11    7900 West Foster Avenue, Chicago, IL 60656, USA   \n",
       "\n",
       "                   Species  Block           Street  Trap  \\\n",
       "0   CULEX PIPIENS/RESTUANS     41   N OAK PARK AVE  T002   \n",
       "1           CULEX RESTUANS     41   N OAK PARK AVE  T002   \n",
       "2            CULEX PIPIENS     41   N OAK PARK AVE  T002   \n",
       "3         CULEX SALINARIUS     41   N OAK PARK AVE  T002   \n",
       "4          CULEX TERRITANS     41   N OAK PARK AVE  T002   \n",
       "5           CULEX TARSALIS     41   N OAK PARK AVE  T002   \n",
       "6        UNSPECIFIED CULEX     41   N OAK PARK AVE  T002   \n",
       "7          CULEX ERRATICUS     41   N OAK PARK AVE  T002   \n",
       "8   CULEX PIPIENS/RESTUANS     62    N MANDELL AVE  T007   \n",
       "9           CULEX RESTUANS     62    N MANDELL AVE  T007   \n",
       "10           CULEX PIPIENS     62    N MANDELL AVE  T007   \n",
       "11        CULEX SALINARIUS     62    N MANDELL AVE  T007   \n",
       "12         CULEX TERRITANS     62    N MANDELL AVE  T007   \n",
       "13          CULEX TARSALIS     62    N MANDELL AVE  T007   \n",
       "14       UNSPECIFIED CULEX     62    N MANDELL AVE  T007   \n",
       "15         CULEX ERRATICUS     62    N MANDELL AVE  T007   \n",
       "16  CULEX PIPIENS/RESTUANS     79     W FOSTER AVE  T015   \n",
       "17          CULEX RESTUANS     79     W FOSTER AVE  T015   \n",
       "18           CULEX PIPIENS     79     W FOSTER AVE  T015   \n",
       "19        CULEX SALINARIUS     79     W FOSTER AVE  T015   \n",
       "\n",
       "               AddressNumberAndStreet   Latitude  Longitude  AddressAccuracy  \n",
       "0   4100  N OAK PARK AVE, Chicago, IL  41.954690 -87.800991                9  \n",
       "1   4100  N OAK PARK AVE, Chicago, IL  41.954690 -87.800991                9  \n",
       "2   4100  N OAK PARK AVE, Chicago, IL  41.954690 -87.800991                9  \n",
       "3   4100  N OAK PARK AVE, Chicago, IL  41.954690 -87.800991                9  \n",
       "4   4100  N OAK PARK AVE, Chicago, IL  41.954690 -87.800991                9  \n",
       "5   4100  N OAK PARK AVE, Chicago, IL  41.954690 -87.800991                9  \n",
       "6   4100  N OAK PARK AVE, Chicago, IL  41.954690 -87.800991                9  \n",
       "7   4100  N OAK PARK AVE, Chicago, IL  41.954690 -87.800991                9  \n",
       "8    6200  N MANDELL AVE, Chicago, IL  41.994991 -87.769279                9  \n",
       "9    6200  N MANDELL AVE, Chicago, IL  41.994991 -87.769279                9  \n",
       "10   6200  N MANDELL AVE, Chicago, IL  41.994991 -87.769279                9  \n",
       "11   6200  N MANDELL AVE, Chicago, IL  41.994991 -87.769279                9  \n",
       "12   6200  N MANDELL AVE, Chicago, IL  41.994991 -87.769279                9  \n",
       "13   6200  N MANDELL AVE, Chicago, IL  41.994991 -87.769279                9  \n",
       "14   6200  N MANDELL AVE, Chicago, IL  41.994991 -87.769279                9  \n",
       "15   6200  N MANDELL AVE, Chicago, IL  41.994991 -87.769279                9  \n",
       "16    7900  W FOSTER AVE, Chicago, IL  41.974089 -87.824812                8  \n",
       "17    7900  W FOSTER AVE, Chicago, IL  41.974089 -87.824812                8  \n",
       "18    7900  W FOSTER AVE, Chicago, IL  41.974089 -87.824812                8  \n",
       "19    7900  W FOSTER AVE, Chicago, IL  41.974089 -87.824812                8  "
      ]
     },
     "execution_count": 5,
     "metadata": {},
     "output_type": "execute_result"
    }
   ],
   "source": [
    "test.head(20)"
   ]
  },
  {
   "cell_type": "code",
   "execution_count": 6,
   "metadata": {
    "ExecuteTime": {
     "end_time": "2021-01-09T05:10:21.335805Z",
     "start_time": "2021-01-09T05:10:21.331279Z"
    },
    "cell_id": "00008-c71c3e13-91ed-4bb6-a65a-49425e2271d7",
    "deepnote_cell_type": "code"
   },
   "outputs": [
    {
     "data": {
      "text/plain": [
       "(116293, 11)"
      ]
     },
     "execution_count": 6,
     "metadata": {},
     "output_type": "execute_result"
    }
   ],
   "source": [
    "test.shape"
   ]
  },
  {
   "cell_type": "code",
   "execution_count": 7,
   "metadata": {
    "ExecuteTime": {
     "end_time": "2021-01-09T05:10:21.700398Z",
     "start_time": "2021-01-09T05:10:21.676074Z"
    },
    "cell_id": "00009-0c5f743f-3085-4afc-8537-1b19dd1f8550",
    "deepnote_cell_type": "code"
   },
   "outputs": [],
   "source": [
    "# Convert date to datetime format\n",
    "test['Date'] = pd.to_datetime(test['Date'])"
   ]
  },
  {
   "cell_type": "code",
   "execution_count": 8,
   "metadata": {
    "ExecuteTime": {
     "end_time": "2021-01-09T05:10:22.160797Z",
     "start_time": "2021-01-09T05:10:22.124601Z"
    },
    "cell_id": "00010-22249157-b241-43fe-9e64-3f0bdd135cfe",
    "deepnote_cell_type": "code"
   },
   "outputs": [
    {
     "name": "stdout",
     "output_type": "stream",
     "text": [
      "<class 'pandas.core.frame.DataFrame'>\n",
      "RangeIndex: 116293 entries, 0 to 116292\n",
      "Data columns (total 11 columns):\n",
      " #   Column                  Non-Null Count   Dtype         \n",
      "---  ------                  --------------   -----         \n",
      " 0   Id                      116293 non-null  int64         \n",
      " 1   Date                    116293 non-null  datetime64[ns]\n",
      " 2   Address                 116293 non-null  object        \n",
      " 3   Species                 116293 non-null  object        \n",
      " 4   Block                   116293 non-null  int64         \n",
      " 5   Street                  116293 non-null  object        \n",
      " 6   Trap                    116293 non-null  object        \n",
      " 7   AddressNumberAndStreet  116293 non-null  object        \n",
      " 8   Latitude                116293 non-null  float64       \n",
      " 9   Longitude               116293 non-null  float64       \n",
      " 10  AddressAccuracy         116293 non-null  int64         \n",
      "dtypes: datetime64[ns](1), float64(2), int64(3), object(5)\n",
      "memory usage: 9.8+ MB\n"
     ]
    }
   ],
   "source": [
    "test.info()"
   ]
  },
  {
   "cell_type": "markdown",
   "metadata": {
    "cell_id": "00011-8ed37cec-a20d-40f2-aff8-9afa59b8dd0d",
    "deepnote_cell_type": "markdown"
   },
   "source": [
    "We see that the test data is complete with no missing/null values. The data types are also correct."
   ]
  },
  {
   "cell_type": "code",
   "execution_count": 9,
   "metadata": {
    "ExecuteTime": {
     "end_time": "2021-01-09T05:10:22.862382Z",
     "start_time": "2021-01-09T05:10:22.855339Z"
    },
    "cell_id": "00012-830125aa-b48c-4efd-8f89-07ab9ed67931",
    "deepnote_cell_type": "code"
   },
   "outputs": [
    {
     "data": {
      "text/html": [
       "<div>\n",
       "<style scoped>\n",
       "    .dataframe tbody tr th:only-of-type {\n",
       "        vertical-align: middle;\n",
       "    }\n",
       "\n",
       "    .dataframe tbody tr th {\n",
       "        vertical-align: top;\n",
       "    }\n",
       "\n",
       "    .dataframe thead th {\n",
       "        text-align: right;\n",
       "    }\n",
       "</style>\n",
       "<table border=\"1\" class=\"dataframe\">\n",
       "  <thead>\n",
       "    <tr style=\"text-align: right;\">\n",
       "      <th></th>\n",
       "      <th>Id</th>\n",
       "      <th>WnvPresent</th>\n",
       "    </tr>\n",
       "  </thead>\n",
       "  <tbody>\n",
       "    <tr>\n",
       "      <th>0</th>\n",
       "      <td>1</td>\n",
       "      <td>0</td>\n",
       "    </tr>\n",
       "    <tr>\n",
       "      <th>1</th>\n",
       "      <td>2</td>\n",
       "      <td>0</td>\n",
       "    </tr>\n",
       "    <tr>\n",
       "      <th>2</th>\n",
       "      <td>3</td>\n",
       "      <td>0</td>\n",
       "    </tr>\n",
       "    <tr>\n",
       "      <th>3</th>\n",
       "      <td>4</td>\n",
       "      <td>0</td>\n",
       "    </tr>\n",
       "    <tr>\n",
       "      <th>4</th>\n",
       "      <td>5</td>\n",
       "      <td>0</td>\n",
       "    </tr>\n",
       "  </tbody>\n",
       "</table>\n",
       "</div>"
      ],
      "text/plain": [
       "   Id  WnvPresent\n",
       "0   1           0\n",
       "1   2           0\n",
       "2   3           0\n",
       "3   4           0\n",
       "4   5           0"
      ]
     },
     "execution_count": 9,
     "metadata": {},
     "output_type": "execute_result"
    }
   ],
   "source": [
    "sample_submission.head()"
   ]
  },
  {
   "cell_type": "markdown",
   "metadata": {
    "cell_id": "00013-23e41b16-3628-4704-b8b8-9e4764e5b9b7",
    "deepnote_cell_type": "markdown"
   },
   "source": [
    "We want to obtain a `.csv` file with just the Id and the predictions to be used for submission."
   ]
  },
  {
   "cell_type": "markdown",
   "metadata": {
    "cell_id": "00014-e6cbf9eb-5fd1-4d41-82c0-bbf368467daa",
    "deepnote_cell_type": "markdown"
   },
   "source": [
    "### Check for duplicates"
   ]
  },
  {
   "cell_type": "code",
   "execution_count": 10,
   "metadata": {
    "ExecuteTime": {
     "end_time": "2021-01-09T05:10:24.235807Z",
     "start_time": "2021-01-09T05:10:24.157861Z"
    },
    "cell_id": "00015-8e174b4b-e080-45c8-adc6-8764fc9c51a9",
    "deepnote_cell_type": "code"
   },
   "outputs": [
    {
     "data": {
      "text/html": [
       "<div>\n",
       "<style scoped>\n",
       "    .dataframe tbody tr th:only-of-type {\n",
       "        vertical-align: middle;\n",
       "    }\n",
       "\n",
       "    .dataframe tbody tr th {\n",
       "        vertical-align: top;\n",
       "    }\n",
       "\n",
       "    .dataframe thead th {\n",
       "        text-align: right;\n",
       "    }\n",
       "</style>\n",
       "<table border=\"1\" class=\"dataframe\">\n",
       "  <thead>\n",
       "    <tr style=\"text-align: right;\">\n",
       "      <th></th>\n",
       "      <th>Id</th>\n",
       "      <th>Date</th>\n",
       "      <th>Address</th>\n",
       "      <th>Species</th>\n",
       "      <th>Block</th>\n",
       "      <th>Street</th>\n",
       "      <th>Trap</th>\n",
       "      <th>AddressNumberAndStreet</th>\n",
       "      <th>Latitude</th>\n",
       "      <th>Longitude</th>\n",
       "      <th>AddressAccuracy</th>\n",
       "    </tr>\n",
       "  </thead>\n",
       "  <tbody>\n",
       "  </tbody>\n",
       "</table>\n",
       "</div>"
      ],
      "text/plain": [
       "Empty DataFrame\n",
       "Columns: [Id, Date, Address, Species, Block, Street, Trap, AddressNumberAndStreet, Latitude, Longitude, AddressAccuracy]\n",
       "Index: []"
      ]
     },
     "execution_count": 10,
     "metadata": {},
     "output_type": "execute_result"
    }
   ],
   "source": [
    "test[test.duplicated()]"
   ]
  },
  {
   "cell_type": "markdown",
   "metadata": {
    "cell_id": "00016-a3055488-3595-4291-85be-43fa8bbecfa3",
    "deepnote_cell_type": "markdown"
   },
   "source": [
    "Test data is clean with no duplicates."
   ]
  },
  {
   "cell_type": "markdown",
   "metadata": {
    "cell_id": "00017-6e6547ea-5dea-47ea-8960-48cb31eeea0e",
    "deepnote_cell_type": "markdown"
   },
   "source": [
    "## Transformation of Test data\n",
    "\n",
    "The test data which we have only contain the mosquito trap information, we want to add in the weather data and also transform the features to match that of the train data so that we can send it into our production model for predictions."
   ]
  },
  {
   "cell_type": "code",
   "execution_count": 11,
   "metadata": {
    "ExecuteTime": {
     "end_time": "2021-01-09T05:10:25.350581Z",
     "start_time": "2021-01-09T05:10:25.340139Z"
    },
    "cell_id": "00018-c3203f1c-68e3-4bde-8546-0135591b2121",
    "deepnote_cell_type": "code"
   },
   "outputs": [],
   "source": [
    "# As we will be using lat and long for location, remove other location variables\n",
    "test.drop(columns=['Address','Block','Street','AddressNumberAndStreet', 'AddressAccuracy'], inplace=True)"
   ]
  },
  {
   "cell_type": "code",
   "execution_count": 12,
   "metadata": {
    "ExecuteTime": {
     "end_time": "2021-01-09T05:10:25.735152Z",
     "start_time": "2021-01-09T05:10:25.710832Z"
    },
    "cell_id": "00019-1a9a976a-7205-44d4-b902-5c8b3ea38484",
    "deepnote_cell_type": "code"
   },
   "outputs": [],
   "source": [
    "# Map the species\n",
    "test['species_no'] = test['Species'].map({'CULEX PIPIENS/RESTUANS': 2,'CULEX PIPIENS': 2,'CULEX RESTUANS': 1})\n",
    "test['species_no'].fillna(value=0,inplace=True)\n",
    "\n",
    "# Drop the Species\n",
    "test.drop(columns=['Species'], inplace=True)"
   ]
  },
  {
   "cell_type": "code",
   "execution_count": 13,
   "metadata": {
    "ExecuteTime": {
     "end_time": "2021-01-09T05:10:26.157690Z",
     "start_time": "2021-01-09T05:10:26.146528Z"
    },
    "cell_id": "00020-ea134db6-b5e8-4361-8fe7-96fa74ba9783",
    "deepnote_cell_type": "code"
   },
   "outputs": [
    {
     "data": {
      "text/html": [
       "<div>\n",
       "<style scoped>\n",
       "    .dataframe tbody tr th:only-of-type {\n",
       "        vertical-align: middle;\n",
       "    }\n",
       "\n",
       "    .dataframe tbody tr th {\n",
       "        vertical-align: top;\n",
       "    }\n",
       "\n",
       "    .dataframe thead th {\n",
       "        text-align: right;\n",
       "    }\n",
       "</style>\n",
       "<table border=\"1\" class=\"dataframe\">\n",
       "  <thead>\n",
       "    <tr style=\"text-align: right;\">\n",
       "      <th></th>\n",
       "      <th>Id</th>\n",
       "      <th>Date</th>\n",
       "      <th>Trap</th>\n",
       "      <th>Latitude</th>\n",
       "      <th>Longitude</th>\n",
       "      <th>species_no</th>\n",
       "    </tr>\n",
       "  </thead>\n",
       "  <tbody>\n",
       "    <tr>\n",
       "      <th>0</th>\n",
       "      <td>1</td>\n",
       "      <td>2008-06-11</td>\n",
       "      <td>T002</td>\n",
       "      <td>41.95469</td>\n",
       "      <td>-87.800991</td>\n",
       "      <td>2.0</td>\n",
       "    </tr>\n",
       "    <tr>\n",
       "      <th>1</th>\n",
       "      <td>2</td>\n",
       "      <td>2008-06-11</td>\n",
       "      <td>T002</td>\n",
       "      <td>41.95469</td>\n",
       "      <td>-87.800991</td>\n",
       "      <td>1.0</td>\n",
       "    </tr>\n",
       "    <tr>\n",
       "      <th>2</th>\n",
       "      <td>3</td>\n",
       "      <td>2008-06-11</td>\n",
       "      <td>T002</td>\n",
       "      <td>41.95469</td>\n",
       "      <td>-87.800991</td>\n",
       "      <td>2.0</td>\n",
       "    </tr>\n",
       "    <tr>\n",
       "      <th>3</th>\n",
       "      <td>4</td>\n",
       "      <td>2008-06-11</td>\n",
       "      <td>T002</td>\n",
       "      <td>41.95469</td>\n",
       "      <td>-87.800991</td>\n",
       "      <td>0.0</td>\n",
       "    </tr>\n",
       "    <tr>\n",
       "      <th>4</th>\n",
       "      <td>5</td>\n",
       "      <td>2008-06-11</td>\n",
       "      <td>T002</td>\n",
       "      <td>41.95469</td>\n",
       "      <td>-87.800991</td>\n",
       "      <td>0.0</td>\n",
       "    </tr>\n",
       "  </tbody>\n",
       "</table>\n",
       "</div>"
      ],
      "text/plain": [
       "   Id       Date  Trap  Latitude  Longitude  species_no\n",
       "0   1 2008-06-11  T002  41.95469 -87.800991         2.0\n",
       "1   2 2008-06-11  T002  41.95469 -87.800991         1.0\n",
       "2   3 2008-06-11  T002  41.95469 -87.800991         2.0\n",
       "3   4 2008-06-11  T002  41.95469 -87.800991         0.0\n",
       "4   5 2008-06-11  T002  41.95469 -87.800991         0.0"
      ]
     },
     "execution_count": 13,
     "metadata": {},
     "output_type": "execute_result"
    }
   ],
   "source": [
    "# Check Species after update\n",
    "test.head()"
   ]
  },
  {
   "cell_type": "code",
   "execution_count": 14,
   "metadata": {
    "ExecuteTime": {
     "end_time": "2021-01-09T05:10:26.692387Z",
     "start_time": "2021-01-09T05:10:26.513743Z"
    },
    "cell_id": "00021-bea90a81-2856-4fd3-aa8e-a51a75dbf2dc",
    "deepnote_cell_type": "code"
   },
   "outputs": [],
   "source": [
    "# One-hot encode the traps\n",
    "test = pd.get_dummies(data=test, columns=['Trap'])"
   ]
  },
  {
   "cell_type": "code",
   "execution_count": 15,
   "metadata": {
    "ExecuteTime": {
     "end_time": "2021-01-09T05:11:08.211994Z",
     "start_time": "2021-01-09T05:10:26.877581Z"
    },
    "cell_id": "00022-6d967b8d-ec7b-4b93-95be-ff294a11596e",
    "deepnote_cell_type": "code"
   },
   "outputs": [],
   "source": [
    "# Add in column to indicate the weather station for each trap in test data\n",
    "import geopy.distance\n",
    "\n",
    "station1 = (41.995, -87.933) #Station 1: CHICAGO O'HARE INTERNATIONAL AIRPORT\n",
    "station2 = (41.786, -87.752) #Station 2: CHICAGO MIDWAY INTL ARPT\n",
    "def get_station(lat, long):\n",
    "    dist1 = geopy.distance.distance((lat, long), station1).km\n",
    "    dist2 = geopy.distance.distance((lat, long), station2).km\n",
    "    return 1 if dist1 < dist2 else 2\n",
    "\n",
    "test['Station'] = [get_station(test.loc[i,'Latitude'],test.loc[i,'Longitude']) for i in test.index]"
   ]
  },
  {
   "cell_type": "code",
   "execution_count": 16,
   "metadata": {
    "ExecuteTime": {
     "end_time": "2021-01-09T05:11:08.305667Z",
     "start_time": "2021-01-09T05:11:08.214607Z"
    },
    "cell_id": "00023-a6577c5b-d077-46b3-8591-97ac4d4281ab",
    "deepnote_cell_type": "code"
   },
   "outputs": [],
   "source": [
    "# Merge weather data with test data\n",
    "test = pd.merge(test, weather, on=['Date','Station'], how='left')"
   ]
  },
  {
   "cell_type": "code",
   "execution_count": 17,
   "metadata": {
    "ExecuteTime": {
     "end_time": "2021-01-09T05:11:08.309679Z",
     "start_time": "2021-01-09T05:11:08.307229Z"
    },
    "cell_id": "00024-08a5df1c-3ca5-4211-980b-cd232cb13ba7",
    "deepnote_cell_type": "code"
   },
   "outputs": [],
   "source": [
    "# Add column for trap_sprayed to be zero since we do not have data of spraying effort in the years of test data\n",
    "test['trap_sprayed'] = 0"
   ]
  },
  {
   "cell_type": "code",
   "execution_count": 18,
   "metadata": {
    "ExecuteTime": {
     "end_time": "2021-01-09T05:11:08.331869Z",
     "start_time": "2021-01-09T05:11:08.312318Z"
    },
    "cell_id": "00025-5c4ceda4-7a25-4d8c-946b-9d248f42e606",
    "deepnote_cell_type": "code"
   },
   "outputs": [
    {
     "data": {
      "text/html": [
       "<div>\n",
       "<style scoped>\n",
       "    .dataframe tbody tr th:only-of-type {\n",
       "        vertical-align: middle;\n",
       "    }\n",
       "\n",
       "    .dataframe tbody tr th {\n",
       "        vertical-align: top;\n",
       "    }\n",
       "\n",
       "    .dataframe thead th {\n",
       "        text-align: right;\n",
       "    }\n",
       "</style>\n",
       "<table border=\"1\" class=\"dataframe\">\n",
       "  <thead>\n",
       "    <tr style=\"text-align: right;\">\n",
       "      <th></th>\n",
       "      <th>Id</th>\n",
       "      <th>Date</th>\n",
       "      <th>Latitude</th>\n",
       "      <th>Longitude</th>\n",
       "      <th>species_no</th>\n",
       "      <th>Trap_T001</th>\n",
       "      <th>Trap_T002</th>\n",
       "      <th>Trap_T002A</th>\n",
       "      <th>Trap_T002B</th>\n",
       "      <th>Trap_T003</th>\n",
       "      <th>...</th>\n",
       "      <th>windlag4</th>\n",
       "      <th>sunlag1</th>\n",
       "      <th>sunlag2</th>\n",
       "      <th>sunlag3</th>\n",
       "      <th>sunlag4</th>\n",
       "      <th>humidlag1</th>\n",
       "      <th>humidlag2</th>\n",
       "      <th>humidlag3</th>\n",
       "      <th>humidlag4</th>\n",
       "      <th>trap_sprayed</th>\n",
       "    </tr>\n",
       "  </thead>\n",
       "  <tbody>\n",
       "    <tr>\n",
       "      <th>0</th>\n",
       "      <td>1</td>\n",
       "      <td>2008-06-11</td>\n",
       "      <td>41.95469</td>\n",
       "      <td>-87.800991</td>\n",
       "      <td>2.0</td>\n",
       "      <td>0</td>\n",
       "      <td>1</td>\n",
       "      <td>0</td>\n",
       "      <td>0</td>\n",
       "      <td>0</td>\n",
       "      <td>...</td>\n",
       "      <td>9.971429</td>\n",
       "      <td>15.090476</td>\n",
       "      <td>14.959524</td>\n",
       "      <td>14.783333</td>\n",
       "      <td>14.566667</td>\n",
       "      <td>72.228571</td>\n",
       "      <td>60.714286</td>\n",
       "      <td>52.771429</td>\n",
       "      <td>65.485714</td>\n",
       "      <td>0</td>\n",
       "    </tr>\n",
       "    <tr>\n",
       "      <th>1</th>\n",
       "      <td>2</td>\n",
       "      <td>2008-06-11</td>\n",
       "      <td>41.95469</td>\n",
       "      <td>-87.800991</td>\n",
       "      <td>1.0</td>\n",
       "      <td>0</td>\n",
       "      <td>1</td>\n",
       "      <td>0</td>\n",
       "      <td>0</td>\n",
       "      <td>0</td>\n",
       "      <td>...</td>\n",
       "      <td>9.971429</td>\n",
       "      <td>15.090476</td>\n",
       "      <td>14.959524</td>\n",
       "      <td>14.783333</td>\n",
       "      <td>14.566667</td>\n",
       "      <td>72.228571</td>\n",
       "      <td>60.714286</td>\n",
       "      <td>52.771429</td>\n",
       "      <td>65.485714</td>\n",
       "      <td>0</td>\n",
       "    </tr>\n",
       "    <tr>\n",
       "      <th>2</th>\n",
       "      <td>3</td>\n",
       "      <td>2008-06-11</td>\n",
       "      <td>41.95469</td>\n",
       "      <td>-87.800991</td>\n",
       "      <td>2.0</td>\n",
       "      <td>0</td>\n",
       "      <td>1</td>\n",
       "      <td>0</td>\n",
       "      <td>0</td>\n",
       "      <td>0</td>\n",
       "      <td>...</td>\n",
       "      <td>9.971429</td>\n",
       "      <td>15.090476</td>\n",
       "      <td>14.959524</td>\n",
       "      <td>14.783333</td>\n",
       "      <td>14.566667</td>\n",
       "      <td>72.228571</td>\n",
       "      <td>60.714286</td>\n",
       "      <td>52.771429</td>\n",
       "      <td>65.485714</td>\n",
       "      <td>0</td>\n",
       "    </tr>\n",
       "    <tr>\n",
       "      <th>3</th>\n",
       "      <td>4</td>\n",
       "      <td>2008-06-11</td>\n",
       "      <td>41.95469</td>\n",
       "      <td>-87.800991</td>\n",
       "      <td>0.0</td>\n",
       "      <td>0</td>\n",
       "      <td>1</td>\n",
       "      <td>0</td>\n",
       "      <td>0</td>\n",
       "      <td>0</td>\n",
       "      <td>...</td>\n",
       "      <td>9.971429</td>\n",
       "      <td>15.090476</td>\n",
       "      <td>14.959524</td>\n",
       "      <td>14.783333</td>\n",
       "      <td>14.566667</td>\n",
       "      <td>72.228571</td>\n",
       "      <td>60.714286</td>\n",
       "      <td>52.771429</td>\n",
       "      <td>65.485714</td>\n",
       "      <td>0</td>\n",
       "    </tr>\n",
       "    <tr>\n",
       "      <th>4</th>\n",
       "      <td>5</td>\n",
       "      <td>2008-06-11</td>\n",
       "      <td>41.95469</td>\n",
       "      <td>-87.800991</td>\n",
       "      <td>0.0</td>\n",
       "      <td>0</td>\n",
       "      <td>1</td>\n",
       "      <td>0</td>\n",
       "      <td>0</td>\n",
       "      <td>0</td>\n",
       "      <td>...</td>\n",
       "      <td>9.971429</td>\n",
       "      <td>15.090476</td>\n",
       "      <td>14.959524</td>\n",
       "      <td>14.783333</td>\n",
       "      <td>14.566667</td>\n",
       "      <td>72.228571</td>\n",
       "      <td>60.714286</td>\n",
       "      <td>52.771429</td>\n",
       "      <td>65.485714</td>\n",
       "      <td>0</td>\n",
       "    </tr>\n",
       "  </tbody>\n",
       "</table>\n",
       "<p>5 rows × 211 columns</p>\n",
       "</div>"
      ],
      "text/plain": [
       "   Id       Date  Latitude  Longitude  species_no  Trap_T001  Trap_T002  \\\n",
       "0   1 2008-06-11  41.95469 -87.800991         2.0          0          1   \n",
       "1   2 2008-06-11  41.95469 -87.800991         1.0          0          1   \n",
       "2   3 2008-06-11  41.95469 -87.800991         2.0          0          1   \n",
       "3   4 2008-06-11  41.95469 -87.800991         0.0          0          1   \n",
       "4   5 2008-06-11  41.95469 -87.800991         0.0          0          1   \n",
       "\n",
       "   Trap_T002A  Trap_T002B  Trap_T003  ...  windlag4    sunlag1    sunlag2  \\\n",
       "0           0           0          0  ...  9.971429  15.090476  14.959524   \n",
       "1           0           0          0  ...  9.971429  15.090476  14.959524   \n",
       "2           0           0          0  ...  9.971429  15.090476  14.959524   \n",
       "3           0           0          0  ...  9.971429  15.090476  14.959524   \n",
       "4           0           0          0  ...  9.971429  15.090476  14.959524   \n",
       "\n",
       "     sunlag3    sunlag4  humidlag1  humidlag2  humidlag3  humidlag4  \\\n",
       "0  14.783333  14.566667  72.228571  60.714286  52.771429  65.485714   \n",
       "1  14.783333  14.566667  72.228571  60.714286  52.771429  65.485714   \n",
       "2  14.783333  14.566667  72.228571  60.714286  52.771429  65.485714   \n",
       "3  14.783333  14.566667  72.228571  60.714286  52.771429  65.485714   \n",
       "4  14.783333  14.566667  72.228571  60.714286  52.771429  65.485714   \n",
       "\n",
       "   trap_sprayed  \n",
       "0             0  \n",
       "1             0  \n",
       "2             0  \n",
       "3             0  \n",
       "4             0  \n",
       "\n",
       "[5 rows x 211 columns]"
      ]
     },
     "execution_count": 18,
     "metadata": {},
     "output_type": "execute_result"
    }
   ],
   "source": [
    "# Check data after update\n",
    "test.head()"
   ]
  },
  {
   "cell_type": "code",
   "execution_count": 19,
   "metadata": {
    "ExecuteTime": {
     "end_time": "2021-01-09T05:11:08.337769Z",
     "start_time": "2021-01-09T05:11:08.333728Z"
    },
    "cell_id": "00026-d9fb2124-45e7-480d-a9f0-46792b59abb2",
    "deepnote_cell_type": "code"
   },
   "outputs": [
    {
     "data": {
      "text/plain": [
       "Index(['species_no', 'trap_sprayed', 'templag1', 'templag2', 'templag3',\n",
       "       'templag4', 'wetbulblag1', 'wetbulblag2', 'wetbulblag3', 'wetbulblag4',\n",
       "       ...\n",
       "       'Trap_T230', 'Trap_T231', 'Trap_T232', 'Trap_T233', 'Trap_T235',\n",
       "       'Trap_T236', 'Trap_T237', 'Trap_T238', 'Trap_T900', 'Trap_T903'],\n",
       "      dtype='object', length=182)"
      ]
     },
     "execution_count": 19,
     "metadata": {},
     "output_type": "execute_result"
    }
   ],
   "source": [
    "# Extract only the features where the train data uses\n",
    "features = X_train.columns\n",
    "features"
   ]
  },
  {
   "cell_type": "code",
   "execution_count": 20,
   "metadata": {
    "ExecuteTime": {
     "end_time": "2021-01-09T05:11:08.468211Z",
     "start_time": "2021-01-09T05:11:08.339263Z"
    },
    "cell_id": "00027-bd1d820b-d825-4369-9648-4a1a21ec3472",
    "deepnote_cell_type": "code"
   },
   "outputs": [
    {
     "data": {
      "text/html": [
       "<div>\n",
       "<style scoped>\n",
       "    .dataframe tbody tr th:only-of-type {\n",
       "        vertical-align: middle;\n",
       "    }\n",
       "\n",
       "    .dataframe tbody tr th {\n",
       "        vertical-align: top;\n",
       "    }\n",
       "\n",
       "    .dataframe thead th {\n",
       "        text-align: right;\n",
       "    }\n",
       "</style>\n",
       "<table border=\"1\" class=\"dataframe\">\n",
       "  <thead>\n",
       "    <tr style=\"text-align: right;\">\n",
       "      <th></th>\n",
       "      <th>species_no</th>\n",
       "      <th>trap_sprayed</th>\n",
       "      <th>templag1</th>\n",
       "      <th>templag2</th>\n",
       "      <th>templag3</th>\n",
       "      <th>templag4</th>\n",
       "      <th>wetbulblag1</th>\n",
       "      <th>wetbulblag2</th>\n",
       "      <th>wetbulblag3</th>\n",
       "      <th>wetbulblag4</th>\n",
       "      <th>...</th>\n",
       "      <th>Trap_T230</th>\n",
       "      <th>Trap_T231</th>\n",
       "      <th>Trap_T232</th>\n",
       "      <th>Trap_T233</th>\n",
       "      <th>Trap_T235</th>\n",
       "      <th>Trap_T236</th>\n",
       "      <th>Trap_T237</th>\n",
       "      <th>Trap_T238</th>\n",
       "      <th>Trap_T900</th>\n",
       "      <th>Trap_T903</th>\n",
       "    </tr>\n",
       "  </thead>\n",
       "  <tbody>\n",
       "    <tr>\n",
       "      <th>0</th>\n",
       "      <td>2.0</td>\n",
       "      <td>0</td>\n",
       "      <td>74.285714</td>\n",
       "      <td>61.428571</td>\n",
       "      <td>55.714286</td>\n",
       "      <td>54.142857</td>\n",
       "      <td>67.571429</td>\n",
       "      <td>54.285714</td>\n",
       "      <td>47.571429</td>\n",
       "      <td>48.571429</td>\n",
       "      <td>...</td>\n",
       "      <td>0</td>\n",
       "      <td>0</td>\n",
       "      <td>0</td>\n",
       "      <td>0</td>\n",
       "      <td>0</td>\n",
       "      <td>0</td>\n",
       "      <td>0</td>\n",
       "      <td>0</td>\n",
       "      <td>0</td>\n",
       "      <td>0</td>\n",
       "    </tr>\n",
       "    <tr>\n",
       "      <th>1</th>\n",
       "      <td>1.0</td>\n",
       "      <td>0</td>\n",
       "      <td>74.285714</td>\n",
       "      <td>61.428571</td>\n",
       "      <td>55.714286</td>\n",
       "      <td>54.142857</td>\n",
       "      <td>67.571429</td>\n",
       "      <td>54.285714</td>\n",
       "      <td>47.571429</td>\n",
       "      <td>48.571429</td>\n",
       "      <td>...</td>\n",
       "      <td>0</td>\n",
       "      <td>0</td>\n",
       "      <td>0</td>\n",
       "      <td>0</td>\n",
       "      <td>0</td>\n",
       "      <td>0</td>\n",
       "      <td>0</td>\n",
       "      <td>0</td>\n",
       "      <td>0</td>\n",
       "      <td>0</td>\n",
       "    </tr>\n",
       "    <tr>\n",
       "      <th>2</th>\n",
       "      <td>2.0</td>\n",
       "      <td>0</td>\n",
       "      <td>74.285714</td>\n",
       "      <td>61.428571</td>\n",
       "      <td>55.714286</td>\n",
       "      <td>54.142857</td>\n",
       "      <td>67.571429</td>\n",
       "      <td>54.285714</td>\n",
       "      <td>47.571429</td>\n",
       "      <td>48.571429</td>\n",
       "      <td>...</td>\n",
       "      <td>0</td>\n",
       "      <td>0</td>\n",
       "      <td>0</td>\n",
       "      <td>0</td>\n",
       "      <td>0</td>\n",
       "      <td>0</td>\n",
       "      <td>0</td>\n",
       "      <td>0</td>\n",
       "      <td>0</td>\n",
       "      <td>0</td>\n",
       "    </tr>\n",
       "    <tr>\n",
       "      <th>3</th>\n",
       "      <td>0.0</td>\n",
       "      <td>0</td>\n",
       "      <td>74.285714</td>\n",
       "      <td>61.428571</td>\n",
       "      <td>55.714286</td>\n",
       "      <td>54.142857</td>\n",
       "      <td>67.571429</td>\n",
       "      <td>54.285714</td>\n",
       "      <td>47.571429</td>\n",
       "      <td>48.571429</td>\n",
       "      <td>...</td>\n",
       "      <td>0</td>\n",
       "      <td>0</td>\n",
       "      <td>0</td>\n",
       "      <td>0</td>\n",
       "      <td>0</td>\n",
       "      <td>0</td>\n",
       "      <td>0</td>\n",
       "      <td>0</td>\n",
       "      <td>0</td>\n",
       "      <td>0</td>\n",
       "    </tr>\n",
       "    <tr>\n",
       "      <th>4</th>\n",
       "      <td>0.0</td>\n",
       "      <td>0</td>\n",
       "      <td>74.285714</td>\n",
       "      <td>61.428571</td>\n",
       "      <td>55.714286</td>\n",
       "      <td>54.142857</td>\n",
       "      <td>67.571429</td>\n",
       "      <td>54.285714</td>\n",
       "      <td>47.571429</td>\n",
       "      <td>48.571429</td>\n",
       "      <td>...</td>\n",
       "      <td>0</td>\n",
       "      <td>0</td>\n",
       "      <td>0</td>\n",
       "      <td>0</td>\n",
       "      <td>0</td>\n",
       "      <td>0</td>\n",
       "      <td>0</td>\n",
       "      <td>0</td>\n",
       "      <td>0</td>\n",
       "      <td>0</td>\n",
       "    </tr>\n",
       "  </tbody>\n",
       "</table>\n",
       "<p>5 rows × 182 columns</p>\n",
       "</div>"
      ],
      "text/plain": [
       "   species_no  trap_sprayed   templag1   templag2   templag3   templag4  \\\n",
       "0         2.0             0  74.285714  61.428571  55.714286  54.142857   \n",
       "1         1.0             0  74.285714  61.428571  55.714286  54.142857   \n",
       "2         2.0             0  74.285714  61.428571  55.714286  54.142857   \n",
       "3         0.0             0  74.285714  61.428571  55.714286  54.142857   \n",
       "4         0.0             0  74.285714  61.428571  55.714286  54.142857   \n",
       "\n",
       "   wetbulblag1  wetbulblag2  wetbulblag3  wetbulblag4  ...  Trap_T230  \\\n",
       "0    67.571429    54.285714    47.571429    48.571429  ...          0   \n",
       "1    67.571429    54.285714    47.571429    48.571429  ...          0   \n",
       "2    67.571429    54.285714    47.571429    48.571429  ...          0   \n",
       "3    67.571429    54.285714    47.571429    48.571429  ...          0   \n",
       "4    67.571429    54.285714    47.571429    48.571429  ...          0   \n",
       "\n",
       "   Trap_T231  Trap_T232  Trap_T233  Trap_T235  Trap_T236  Trap_T237  \\\n",
       "0          0          0          0          0          0          0   \n",
       "1          0          0          0          0          0          0   \n",
       "2          0          0          0          0          0          0   \n",
       "3          0          0          0          0          0          0   \n",
       "4          0          0          0          0          0          0   \n",
       "\n",
       "   Trap_T238  Trap_T900  Trap_T903  \n",
       "0          0          0          0  \n",
       "1          0          0          0  \n",
       "2          0          0          0  \n",
       "3          0          0          0  \n",
       "4          0          0          0  \n",
       "\n",
       "[5 rows x 182 columns]"
      ]
     },
     "execution_count": 20,
     "metadata": {},
     "output_type": "execute_result"
    }
   ],
   "source": [
    "X_test = test[features]\n",
    "X_test.head()"
   ]
  },
  {
   "cell_type": "markdown",
   "metadata": {
    "cell_id": "00028-e97d3f44-76eb-4e72-855b-57849427bea5",
    "deepnote_cell_type": "markdown"
   },
   "source": [
    "## Predictions\n",
    "\n",
    "Now that the test data is ready, we can load in our production model and use it for predictions."
   ]
  },
  {
   "cell_type": "code",
   "execution_count": 21,
   "metadata": {
    "ExecuteTime": {
     "end_time": "2021-01-09T05:11:08.480852Z",
     "start_time": "2021-01-09T05:11:08.470030Z"
    },
    "cell_id": "00029-5825a41b-60db-484d-9a99-aca06d00e757",
    "deepnote_cell_type": "code"
   },
   "outputs": [
    {
     "name": "stdout",
     "output_type": "stream",
     "text": [
      "StandardScaler()\n",
      "AdaBoostClassifier(learning_rate=1, n_estimators=20, random_state=42)\n"
     ]
    }
   ],
   "source": [
    "# Load in production model and scaler\n",
    "ss = pickle.load(open('scaler.pkl', 'rb'))\n",
    "model = pickle.load(open('production_model.pkl', 'rb'))\n",
    "\n",
    "print(ss)\n",
    "print(model)"
   ]
  },
  {
   "cell_type": "code",
   "execution_count": 22,
   "metadata": {
    "ExecuteTime": {
     "end_time": "2021-01-09T05:11:08.792367Z",
     "start_time": "2021-01-09T05:11:08.482470Z"
    },
    "cell_id": "00030-021aa071-4f19-47b1-b8d3-a6557ebcdc93",
    "deepnote_cell_type": "code"
   },
   "outputs": [],
   "source": [
    "# Scale test data\n",
    "Xs_test = ss.transform(X_test)"
   ]
  },
  {
   "cell_type": "code",
   "execution_count": 23,
   "metadata": {
    "ExecuteTime": {
     "end_time": "2021-01-09T05:11:09.850485Z",
     "start_time": "2021-01-09T05:11:08.796803Z"
    },
    "cell_id": "00031-75172a21-ff03-4864-bc9b-0c97954e6a58",
    "deepnote_cell_type": "code"
   },
   "outputs": [
    {
     "data": {
      "text/plain": [
       "array([0, 0, 0, ..., 0, 0, 0], dtype=int64)"
      ]
     },
     "execution_count": 23,
     "metadata": {},
     "output_type": "execute_result"
    }
   ],
   "source": [
    "predictions = model.predict(Xs_test)\n",
    "predictions"
   ]
  },
  {
   "cell_type": "code",
   "execution_count": 24,
   "metadata": {
    "ExecuteTime": {
     "end_time": "2021-01-09T05:11:09.856175Z",
     "start_time": "2021-01-09T05:11:09.852638Z"
    },
    "cell_id": "00032-14e55ab0-3fd7-4e40-bb30-e53d16ddce2c",
    "deepnote_cell_type": "code"
   },
   "outputs": [],
   "source": [
    "# Set up dataframe to save as .csv for submission\n",
    "submission = pd.DataFrame(test['Id'])\n",
    "\n",
    "# Add in the predictions\n",
    "submission['WnvPresent'] = predictions"
   ]
  },
  {
   "cell_type": "code",
   "execution_count": 25,
   "metadata": {
    "ExecuteTime": {
     "end_time": "2021-01-09T05:11:09.863862Z",
     "start_time": "2021-01-09T05:11:09.857689Z"
    },
    "cell_id": "00033-c918d49c-30d3-421e-9812-808e36ab0915",
    "deepnote_cell_type": "code"
   },
   "outputs": [
    {
     "data": {
      "text/html": [
       "<div>\n",
       "<style scoped>\n",
       "    .dataframe tbody tr th:only-of-type {\n",
       "        vertical-align: middle;\n",
       "    }\n",
       "\n",
       "    .dataframe tbody tr th {\n",
       "        vertical-align: top;\n",
       "    }\n",
       "\n",
       "    .dataframe thead th {\n",
       "        text-align: right;\n",
       "    }\n",
       "</style>\n",
       "<table border=\"1\" class=\"dataframe\">\n",
       "  <thead>\n",
       "    <tr style=\"text-align: right;\">\n",
       "      <th></th>\n",
       "      <th>Id</th>\n",
       "      <th>WnvPresent</th>\n",
       "    </tr>\n",
       "  </thead>\n",
       "  <tbody>\n",
       "    <tr>\n",
       "      <th>0</th>\n",
       "      <td>1</td>\n",
       "      <td>0</td>\n",
       "    </tr>\n",
       "    <tr>\n",
       "      <th>1</th>\n",
       "      <td>2</td>\n",
       "      <td>0</td>\n",
       "    </tr>\n",
       "    <tr>\n",
       "      <th>2</th>\n",
       "      <td>3</td>\n",
       "      <td>0</td>\n",
       "    </tr>\n",
       "    <tr>\n",
       "      <th>3</th>\n",
       "      <td>4</td>\n",
       "      <td>0</td>\n",
       "    </tr>\n",
       "    <tr>\n",
       "      <th>4</th>\n",
       "      <td>5</td>\n",
       "      <td>0</td>\n",
       "    </tr>\n",
       "    <tr>\n",
       "      <th>5</th>\n",
       "      <td>6</td>\n",
       "      <td>0</td>\n",
       "    </tr>\n",
       "    <tr>\n",
       "      <th>6</th>\n",
       "      <td>7</td>\n",
       "      <td>0</td>\n",
       "    </tr>\n",
       "    <tr>\n",
       "      <th>7</th>\n",
       "      <td>8</td>\n",
       "      <td>0</td>\n",
       "    </tr>\n",
       "    <tr>\n",
       "      <th>8</th>\n",
       "      <td>9</td>\n",
       "      <td>0</td>\n",
       "    </tr>\n",
       "    <tr>\n",
       "      <th>9</th>\n",
       "      <td>10</td>\n",
       "      <td>0</td>\n",
       "    </tr>\n",
       "  </tbody>\n",
       "</table>\n",
       "</div>"
      ],
      "text/plain": [
       "   Id  WnvPresent\n",
       "0   1           0\n",
       "1   2           0\n",
       "2   3           0\n",
       "3   4           0\n",
       "4   5           0\n",
       "5   6           0\n",
       "6   7           0\n",
       "7   8           0\n",
       "8   9           0\n",
       "9  10           0"
      ]
     },
     "execution_count": 25,
     "metadata": {},
     "output_type": "execute_result"
    }
   ],
   "source": [
    "submission.head(10)"
   ]
  },
  {
   "cell_type": "code",
   "execution_count": 26,
   "metadata": {
    "ExecuteTime": {
     "end_time": "2021-01-09T05:11:09.870830Z",
     "start_time": "2021-01-09T05:11:09.865421Z"
    },
    "cell_id": "00034-bb5eb4af-bc61-4aa5-9cd7-d44f0f394da8",
    "deepnote_cell_type": "code"
   },
   "outputs": [
    {
     "data": {
      "text/plain": [
       "0    104622\n",
       "1     11671\n",
       "Name: WnvPresent, dtype: int64"
      ]
     },
     "execution_count": 26,
     "metadata": {},
     "output_type": "execute_result"
    }
   ],
   "source": [
    "submission['WnvPresent'].value_counts()"
   ]
  },
  {
   "cell_type": "markdown",
   "metadata": {
    "cell_id": "00035-5560005e-fb16-4834-9709-6f6a3421d2a0",
    "deepnote_cell_type": "markdown"
   },
   "source": [
    "#### Save predictions as `.csv` and submit"
   ]
  },
  {
   "cell_type": "code",
   "execution_count": 27,
   "metadata": {
    "ExecuteTime": {
     "end_time": "2021-01-09T05:11:10.025131Z",
     "start_time": "2021-01-09T05:11:09.872871Z"
    },
    "cell_id": "00036-0bf8eb53-5ba6-4725-89ba-5a9792aa1930",
    "deepnote_cell_type": "code"
   },
   "outputs": [],
   "source": [
    "# Save csv\n",
    "submission.to_csv('../datasets/submission_predictions.csv', index=False)"
   ]
  },
  {
   "cell_type": "markdown",
   "metadata": {
    "cell_id": "00037-5661eecd-2e90-4b98-bc95-de88bfcd7eb6",
    "deepnote_cell_type": "markdown"
   },
   "source": [
    "![Submission](../images/kaggle_submission.png)"
   ]
  }
 ],
 "metadata": {
  "deepnote_execution_queue": [],
  "deepnote_notebook_id": "73dbff11-f354-4aba-8cec-a92c88a75416",
  "kernelspec": {
   "display_name": "Python 3",
   "language": "python",
   "name": "python3"
  },
  "language_info": {
   "codemirror_mode": {
    "name": "ipython",
    "version": 3
   },
   "file_extension": ".py",
   "mimetype": "text/x-python",
   "name": "python",
   "nbconvert_exporter": "python",
   "pygments_lexer": "ipython3",
   "version": "3.8.3"
  },
  "toc": {
   "base_numbering": 1,
   "nav_menu": {},
   "number_sections": false,
   "sideBar": true,
   "skip_h1_title": true,
   "title_cell": "Table of Contents",
   "title_sidebar": "Contents",
   "toc_cell": false,
   "toc_position": {},
   "toc_section_display": true,
   "toc_window_display": true
  },
  "varInspector": {
   "cols": {
    "lenName": 16,
    "lenType": 16,
    "lenVar": 40
   },
   "kernels_config": {
    "python": {
     "delete_cmd_postfix": "",
     "delete_cmd_prefix": "del ",
     "library": "var_list.py",
     "varRefreshCmd": "print(var_dic_list())"
    },
    "r": {
     "delete_cmd_postfix": ") ",
     "delete_cmd_prefix": "rm(",
     "library": "var_list.r",
     "varRefreshCmd": "cat(var_dic_list()) "
    }
   },
   "types_to_exclude": [
    "module",
    "function",
    "builtin_function_or_method",
    "instance",
    "_Feature"
   ],
   "window_display": false
  }
 },
 "nbformat": 4,
 "nbformat_minor": 4
}
